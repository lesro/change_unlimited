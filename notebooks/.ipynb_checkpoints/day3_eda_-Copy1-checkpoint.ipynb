{
 "cells": [
  {
   "cell_type": "code",
   "execution_count": 1,
   "metadata": {},
   "outputs": [],
   "source": [
    "import pandas as pd\n",
    "import numpy as np\n",
    "import matplotlib.pyplot as plt\n",
    "import seaborn as sns\n",
    "import folium\n",
    "\n",
    "%matplotlib inline"
   ]
  },
  {
   "cell_type": "code",
   "execution_count": 6,
   "metadata": {},
   "outputs": [],
   "source": [
    "#establish groups, below and above median for income\n",
    "us_median = 59_039\n",
    "\n",
    "#import dataframe\n",
    "eda_df = pd.read_csv('../data/eda_data.csv')"
   ]
  },
  {
   "cell_type": "code",
   "execution_count": 7,
   "metadata": {},
   "outputs": [
    {
     "name": "stdout",
     "output_type": "stream",
     "text": [
      "<class 'pandas.core.frame.DataFrame'>\n",
      "RangeIndex: 1017131 entries, 0 to 1017130\n",
      "Data columns (total 18 columns):\n",
      " #   Column          Non-Null Count    Dtype  \n",
      "---  ------          --------------    -----  \n",
      " 0   Unnamed: 0      1017131 non-null  int64  \n",
      " 1   STATE_x         1017131 non-null  object \n",
      " 2   zipcode         1017131 non-null  int64  \n",
      " 3   N1              1017131 non-null  float64\n",
      " 4   N02650          1017131 non-null  float64\n",
      " 5   A02650          1017131 non-null  float64\n",
      " 6   avg_income      1017131 non-null  float64\n",
      " 7   NAME            1017131 non-null  object \n",
      " 8   CITY            1017131 non-null  object \n",
      " 9   STATE_y         1017131 non-null  object \n",
      " 10  ZIP             1017131 non-null  object \n",
      " 11  SUBSECTION      1017131 non-null  int64  \n",
      " 12  CLASSIFICATION  1017131 non-null  int64  \n",
      " 13  FOUNDATION      1017131 non-null  int64  \n",
      " 14  ASSET_AMT       1017131 non-null  float64\n",
      " 15  INCOME_AMT      1017131 non-null  float64\n",
      " 16  REVENUE_AMT     1017131 non-null  float64\n",
      " 17  NTEE_CD         691408 non-null   object \n",
      "dtypes: float64(7), int64(5), object(6)\n",
      "memory usage: 139.7+ MB\n"
     ]
    }
   ],
   "source": [
    "eda_df.info()"
   ]
  },
  {
   "cell_type": "markdown",
   "metadata": {},
   "source": [
    "## NP plots"
   ]
  },
  {
   "cell_type": "code",
   "execution_count": 57,
   "metadata": {},
   "outputs": [],
   "source": [
    "#establish df for plotting num of NPs per State > city > zip\n",
    "#plot on folium density map\n",
    "#number of NPs registered with IRS by state\n",
    "\n",
    "\n",
    "#count per state\n",
    "nps_per_state = eda_df.groupby(['STATE_x']).count()\n",
    "\n",
    "state_value = nps_per_state['zipcode'].sort_values(ascending=False)\n",
    "state_index = state_value.index\n",
    "\n",
    "\n",
    "#sum of revenues per state (negative revs included)\n",
    "np_rev_per_state = eda_df.groupby(['STATE_x']).sum()\n",
    "\n",
    "rev_value = np_rev_per_state['REVENUE_AMT'].sort_values(ascending=False)\n",
    "rev_index = rev_value.index\n",
    "\n",
    "#dual axis bar plot (reformat values to show in millions)"
   ]
  },
  {
   "cell_type": "code",
   "execution_count": 58,
   "metadata": {},
   "outputs": [],
   "source": [
    "#establish df for plotting num of NPs per State > city > zip\n",
    "#plot on folium density map\n",
    "#number of NPs registered with IRS by city\n",
    "\n",
    "#count per city\n",
    "nps_per_city = eda_df.groupby(['CITY']).count()\n",
    "\n",
    "city_value = nps_per_city['zipcode'].sort_values(ascending=False)\n",
    "city_index = city_value.index\n",
    "\n",
    "#sum of revenues per city (negative revs included)\n",
    "np_rev_per_city = eda_df.groupby(['CITY']).sum()\n",
    "\n",
    "cityrev_value = np_rev_per_city['REVENUE_AMT'].sort_values(ascending=False)\n",
    "cityrev_index = cityrev_value.index\n"
   ]
  },
  {
   "cell_type": "code",
   "execution_count": 53,
   "metadata": {},
   "outputs": [],
   "source": [
    "#nps by subsection, relevant because this will tell me \n",
    "#type of organization and if contributions are deductible\n",
    "#deductible is not beind analyzed at this moment\n",
    "\n",
    "#which subsection have the most NPs and where are they in the US\n",
    "\n",
    "#count per state\n",
    "npsubsec_per_state = eda_df.groupby(['STATE_x','SUBSECTION']).count()\n",
    "\n",
    "statesub_value = npsubsec_per_state['zipcode'].sort_values(ascending=False)\n",
    "statesub_index = statesub_value.index\n",
    "\n",
    "#sum of revenues per state (negative revs included)\n",
    "npsubsecrev_per_state = eda_df.groupby(['STATE_x','SUBSECTION']).sum()\n",
    "\n",
    "statesubrev_value = npsubsecrev_per_state['REVENUE_AMT'].sort_values(ascending=False)\n",
    "statesubrev_index = statesubrev_value.index"
   ]
  },
  {
   "cell_type": "code",
   "execution_count": 64,
   "metadata": {},
   "outputs": [
    {
     "data": {
      "text/plain": [
       "STATE_x  SUBSECTION  FOUNDATION\n",
       "CA       3           12            8.087985e+10\n",
       "OR       3           16            7.443628e+10\n",
       "NY       3           12            6.793736e+10\n",
       "CA       3           15            6.600335e+10\n",
       "NY       3           15            6.162279e+10\n",
       "                                       ...     \n",
       "NV       25          0             0.000000e+00\n",
       "WY       25          0            -2.930000e+02\n",
       "GA       91          21           -1.740260e+05\n",
       "SC       3           22           -2.552736e+06\n",
       "OH       29          0            -3.725626e+06\n",
       "Name: REVENUE_AMT, Length: 1466, dtype: float64"
      ]
     },
     "execution_count": 64,
     "metadata": {},
     "output_type": "execute_result"
    }
   ],
   "source": [
    "#nps by foundation, where they receive most of their funding\n",
    "\n",
    "#which foundations have the most NPs and where are they in the US\n",
    "\n",
    "#count per state\n",
    "npsubfou_per_state = eda_df.groupby(['STATE_x','SUBSECTION', 'FOUNDATION']).count()\n",
    "\n",
    "statefou_value = npsubfou_per_state['zipcode'].sort_values(ascending=False)\n",
    "statefou_index = statefou_value.index\n",
    "\n",
    "#sum of revenues per state (negative revs included)\n",
    "npsubfourev_per_state = eda_df.groupby(['STATE_x','SUBSECTION', 'FOUNDATION']).sum()\n",
    "\n",
    "statesubrev_value = npsubfourev_per_state['REVENUE_AMT'].sort_values(ascending=False)\n",
    "statesubrev_index = statesubrev_value.index\n",
    "\n",
    "statesubrev_value"
   ]
  },
  {
   "cell_type": "code",
   "execution_count": 65,
   "metadata": {},
   "outputs": [
    {
     "data": {
      "text/plain": [
       "FOUNDATION  STATE_x\n",
       "15          CA         51739\n",
       "            TX         33719\n",
       "            NY         33475\n",
       "16          CA         31281\n",
       "15          FL         26902\n",
       "                       ...  \n",
       "18          IA             1\n",
       "            IL             1\n",
       "3           DE             1\n",
       "            GA             1\n",
       "25          VA             1\n",
       "Name: zipcode, Length: 705, dtype: int64"
      ]
     },
     "execution_count": 65,
     "metadata": {},
     "output_type": "execute_result"
    }
   ],
   "source": [
    "#nps by foundation, where they receive most of their funding\n",
    "\n",
    "#which foundations have the most NPs and where are they in the US\n",
    "\n",
    "#count per state\n",
    "npfou2_per_state = eda_df.groupby(['FOUNDATION','STATE_x']).count()\n",
    "\n",
    "statefou2_value = npfou2_per_state['zipcode'].sort_values(ascending=False)\n",
    "statefou2_index = statefou2_value.index\n",
    "\n",
    "#sum of revenues per state (negative revs included)\n",
    "npfourev_per_state = eda_df.groupby(['FOUNDATION','STATE_x']).sum()\n",
    "\n",
    "statefourev_value = npfourev_per_state['REVENUE_AMT'].sort_values(ascending=False)\n",
    "statefourev_index = statefourev_value.index\n",
    "\n",
    "statefou2_value"
   ]
  },
  {
   "cell_type": "code",
   "execution_count": null,
   "metadata": {},
   "outputs": [],
   "source": [
    "#nps by foundation, where they receive most of their funding\n",
    "\n",
    "#which foundations have the most NPs and where are they in the US\n",
    "\n",
    "#count per state\n",
    "npfou_per_state = eda_df.groupby(['FOUNDATION']).count()\n",
    "\n",
    "fou_value = npfou_per_state['zipcode'].sort_values(ascending=False)\n",
    "fou_index = fou_value.index\n",
    "\n",
    "#sum of revenues per state (negative revs included)\n",
    "npsubfourev_per_state = eda_df.groupby(['STATE_x','SUBSECTION', 'FOUNDATION']).sum()\n",
    "\n",
    "statesubrev_value = npsubsecrev_per_state['REVENUE_AMT'].sort_values(ascending=False)\n",
    "statesubrev_index = statesubrev_value.index"
   ]
  }
 ],
 "metadata": {
  "kernelspec": {
   "display_name": "Python 3",
   "language": "python",
   "name": "python3"
  },
  "language_info": {
   "codemirror_mode": {
    "name": "ipython",
    "version": 3
   },
   "file_extension": ".py",
   "mimetype": "text/x-python",
   "name": "python",
   "nbconvert_exporter": "python",
   "pygments_lexer": "ipython3",
   "version": "3.7.7"
  }
 },
 "nbformat": 4,
 "nbformat_minor": 4
}
