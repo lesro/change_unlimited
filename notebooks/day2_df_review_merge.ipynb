{
 "cells": [
  {
   "cell_type": "code",
   "execution_count": 305,
   "metadata": {},
   "outputs": [],
   "source": [
    "import pandas as pd\n",
    "import numpy as np\n",
    "import matplotlib.pyplot as plt\n",
    "import seaborn as sns\n",
    "\n",
    "%matplotlib inline"
   ]
  },
  {
   "cell_type": "code",
   "execution_count": 4,
   "metadata": {},
   "outputs": [],
   "source": [
    "irs_ind_income = pd.read_csv('../data/irs_individual_data/17zpallagi.csv')\n",
    "irs_np = pd.read_csv('../data/irs_np_data/all_us_np_data.csv')\n",
    "cen_income = pd.read_csv('../data/dp02_income_data.csv')\n",
    "\n",
    "#load this took a second or two, literally, heavy for jup"
   ]
  },
  {
   "cell_type": "markdown",
   "metadata": {},
   "source": [
    "## IRS DF Scrub"
   ]
  },
  {
   "cell_type": "code",
   "execution_count": 5,
   "metadata": {},
   "outputs": [],
   "source": [
    "#step 1: clean up irs dataset for columns that I will want.\n",
    "# keep_columns = ['STATE', 'zipcode', 'agi_stub', 'A00100', 'A02650', 'A00200',]\n",
    "column_dict = {'STATE':'State', 'zipcode': 'Zipcode', 'N1':'Number of returns',  'N02650': 'Number of returns with total income', 'A02650':'Total income amount', 'N00200':'Number of returns with salaries and wages','A00200': 'Salaries and wages amount'}"
   ]
  },
  {
   "cell_type": "code",
   "execution_count": 6,
   "metadata": {},
   "outputs": [],
   "source": [
    "columns = []\n",
    "for k, v in column_dict.items():\n",
    "    columns.append(k)"
   ]
  },
  {
   "cell_type": "code",
   "execution_count": 8,
   "metadata": {},
   "outputs": [],
   "source": [
    "irs_wip_df = irs_ind_income[['STATE',\n",
    " 'zipcode',\n",
    " 'N1',\n",
    " 'N02650',\n",
    " 'A02650',\n",
    " 'N00200',\n",
    " 'A00200']]\n",
    "\n",
    "removed_zip_0 = irs_wip_df[irs_wip_df['zipcode'] != 0]\n",
    "removed_zip_99999 = removed_zip_0[removed_zip_0['zipcode'] != 99999]\n",
    "\n",
    "#started with 166537, after removing zips with 0 and 99999, left with \n",
    "#165923\n",
    "\n",
    "#these rows are for areas that have pop under 100 and/or "
   ]
  },
  {
   "cell_type": "code",
   "execution_count": null,
   "metadata": {},
   "outputs": [],
   "source": [
    "\n",
    "# # new_header = cen_income.iloc[0] #grab the first row for the header\n",
    "# # cen_income = cen_income[1:] #take the data less the header row\n",
    "# # cen_income.columns = new_header #set the header row as the df header\n",
    "\n",
    "# cen_income.drop([cen_income.columns[0], cen_income.columns[1]], axis=1).to_csv('../data/dp02_income_data_clean.csv')"
   ]
  },
  {
   "cell_type": "code",
   "execution_count": 9,
   "metadata": {},
   "outputs": [],
   "source": [
    "irs_wip_df = removed_zip_99999"
   ]
  },
  {
   "cell_type": "code",
   "execution_count": 10,
   "metadata": {},
   "outputs": [
    {
     "name": "stdout",
     "output_type": "stream",
     "text": [
      "<class 'pandas.core.frame.DataFrame'>\n",
      "Int64Index: 165925 entries, 6 to 166530\n",
      "Data columns (total 7 columns):\n",
      " #   Column   Non-Null Count   Dtype  \n",
      "---  ------   --------------   -----  \n",
      " 0   STATE    165925 non-null  object \n",
      " 1   zipcode  165925 non-null  int64  \n",
      " 2   N1       165925 non-null  float64\n",
      " 3   N02650   165925 non-null  float64\n",
      " 4   A02650   165925 non-null  float64\n",
      " 5   N00200   165925 non-null  float64\n",
      " 6   A00200   165925 non-null  float64\n",
      "dtypes: float64(5), int64(1), object(1)\n",
      "memory usage: 10.1+ MB\n"
     ]
    }
   ],
   "source": [
    "irs_wip_df.info()"
   ]
  },
  {
   "cell_type": "code",
   "execution_count": 54,
   "metadata": {},
   "outputs": [],
   "source": [
    "irs_wip_df.drop(['N00200','A00200'], axis=1).to_csv('../data/eda_irs_data.csv')"
   ]
  },
  {
   "cell_type": "code",
   "execution_count": 360,
   "metadata": {},
   "outputs": [
    {
     "data": {
      "text/html": [
       "<div>\n",
       "<style scoped>\n",
       "    .dataframe tbody tr th:only-of-type {\n",
       "        vertical-align: middle;\n",
       "    }\n",
       "\n",
       "    .dataframe tbody tr th {\n",
       "        vertical-align: top;\n",
       "    }\n",
       "\n",
       "    .dataframe thead th {\n",
       "        text-align: right;\n",
       "    }\n",
       "</style>\n",
       "<table border=\"1\" class=\"dataframe\">\n",
       "  <thead>\n",
       "    <tr style=\"text-align: right;\">\n",
       "      <th></th>\n",
       "      <th>STATE</th>\n",
       "      <th>zipcode</th>\n",
       "      <th>N1</th>\n",
       "      <th>N02650</th>\n",
       "      <th>A02650</th>\n",
       "      <th>N00200</th>\n",
       "      <th>A00200</th>\n",
       "    </tr>\n",
       "  </thead>\n",
       "  <tbody>\n",
       "    <tr>\n",
       "      <th>24416</th>\n",
       "      <td>FL</td>\n",
       "      <td>33155</td>\n",
       "      <td>10490.0</td>\n",
       "      <td>10490.0</td>\n",
       "      <td>134622.0</td>\n",
       "      <td>6920.0</td>\n",
       "      <td>95760.0</td>\n",
       "    </tr>\n",
       "    <tr>\n",
       "      <th>24417</th>\n",
       "      <td>FL</td>\n",
       "      <td>33155</td>\n",
       "      <td>5830.0</td>\n",
       "      <td>5830.0</td>\n",
       "      <td>211998.0</td>\n",
       "      <td>5130.0</td>\n",
       "      <td>179840.0</td>\n",
       "    </tr>\n",
       "    <tr>\n",
       "      <th>24418</th>\n",
       "      <td>FL</td>\n",
       "      <td>33155</td>\n",
       "      <td>2850.0</td>\n",
       "      <td>2850.0</td>\n",
       "      <td>175719.0</td>\n",
       "      <td>2510.0</td>\n",
       "      <td>142310.0</td>\n",
       "    </tr>\n",
       "    <tr>\n",
       "      <th>24419</th>\n",
       "      <td>FL</td>\n",
       "      <td>33155</td>\n",
       "      <td>1610.0</td>\n",
       "      <td>1610.0</td>\n",
       "      <td>140761.0</td>\n",
       "      <td>1430.0</td>\n",
       "      <td>111105.0</td>\n",
       "    </tr>\n",
       "    <tr>\n",
       "      <th>24420</th>\n",
       "      <td>FL</td>\n",
       "      <td>33155</td>\n",
       "      <td>2460.0</td>\n",
       "      <td>2460.0</td>\n",
       "      <td>341828.0</td>\n",
       "      <td>2230.0</td>\n",
       "      <td>267323.0</td>\n",
       "    </tr>\n",
       "    <tr>\n",
       "      <th>24421</th>\n",
       "      <td>FL</td>\n",
       "      <td>33155</td>\n",
       "      <td>1060.0</td>\n",
       "      <td>1060.0</td>\n",
       "      <td>471421.0</td>\n",
       "      <td>980.0</td>\n",
       "      <td>275665.0</td>\n",
       "    </tr>\n",
       "  </tbody>\n",
       "</table>\n",
       "</div>"
      ],
      "text/plain": [
       "      STATE  zipcode       N1   N02650    A02650  N00200    A00200\n",
       "24416    FL    33155  10490.0  10490.0  134622.0  6920.0   95760.0\n",
       "24417    FL    33155   5830.0   5830.0  211998.0  5130.0  179840.0\n",
       "24418    FL    33155   2850.0   2850.0  175719.0  2510.0  142310.0\n",
       "24419    FL    33155   1610.0   1610.0  140761.0  1430.0  111105.0\n",
       "24420    FL    33155   2460.0   2460.0  341828.0  2230.0  267323.0\n",
       "24421    FL    33155   1060.0   1060.0  471421.0   980.0  275665.0"
      ]
     },
     "execution_count": 360,
     "metadata": {},
     "output_type": "execute_result"
    }
   ],
   "source": [
    "#identify if zipcodes are unique, they are not, group by them\n",
    "irs_wip_df[irs_wip_df['zipcode']==33155]"
   ]
  },
  {
   "cell_type": "code",
   "execution_count": 58,
   "metadata": {},
   "outputs": [],
   "source": [
    "#grouped zipcodes within states\n",
    "irs_wip_df_grouped_zip = irs_wip_df.groupby(['STATE','zipcode'], as_index=False).sum().drop(['N00200','A00200'], axis=1)\n"
   ]
  },
  {
   "cell_type": "code",
   "execution_count": null,
   "metadata": {},
   "outputs": [],
   "source": []
  },
  {
   "cell_type": "code",
   "execution_count": 60,
   "metadata": {},
   "outputs": [],
   "source": [
    "#calcualte average individual income by zip code\n",
    "irs_wip_df_grouped_zip['avg_income'] = irs_wip_df_grouped_zip['A02650']/irs_wip_df_grouped_zip['N1']\n",
    "irs_wip_df_grouped_zip.to_csv('../data/eda_irszip_data.csv')"
   ]
  },
  {
   "cell_type": "code",
   "execution_count": 292,
   "metadata": {},
   "outputs": [
    {
     "data": {
      "text/html": [
       "<div>\n",
       "<style scoped>\n",
       "    .dataframe tbody tr th:only-of-type {\n",
       "        vertical-align: middle;\n",
       "    }\n",
       "\n",
       "    .dataframe tbody tr th {\n",
       "        vertical-align: top;\n",
       "    }\n",
       "\n",
       "    .dataframe thead th {\n",
       "        text-align: right;\n",
       "    }\n",
       "</style>\n",
       "<table border=\"1\" class=\"dataframe\">\n",
       "  <thead>\n",
       "    <tr style=\"text-align: right;\">\n",
       "      <th></th>\n",
       "      <th>STATE</th>\n",
       "      <th>zipcode</th>\n",
       "      <th>N1</th>\n",
       "      <th>N02650</th>\n",
       "      <th>A02650</th>\n",
       "      <th>avg_income</th>\n",
       "    </tr>\n",
       "  </thead>\n",
       "  <tbody>\n",
       "    <tr>\n",
       "      <th>0</th>\n",
       "      <td>AK</td>\n",
       "      <td>99501</td>\n",
       "      <td>7740.0</td>\n",
       "      <td>7740.0</td>\n",
       "      <td>581650.0</td>\n",
       "      <td>75.148579</td>\n",
       "    </tr>\n",
       "    <tr>\n",
       "      <th>1</th>\n",
       "      <td>AK</td>\n",
       "      <td>99502</td>\n",
       "      <td>11690.0</td>\n",
       "      <td>11690.0</td>\n",
       "      <td>996844.0</td>\n",
       "      <td>85.273225</td>\n",
       "    </tr>\n",
       "    <tr>\n",
       "      <th>2</th>\n",
       "      <td>AK</td>\n",
       "      <td>99503</td>\n",
       "      <td>7670.0</td>\n",
       "      <td>7670.0</td>\n",
       "      <td>444587.0</td>\n",
       "      <td>57.964407</td>\n",
       "    </tr>\n",
       "    <tr>\n",
       "      <th>3</th>\n",
       "      <td>AK</td>\n",
       "      <td>99504</td>\n",
       "      <td>19120.0</td>\n",
       "      <td>19120.0</td>\n",
       "      <td>1120829.0</td>\n",
       "      <td>58.620764</td>\n",
       "    </tr>\n",
       "    <tr>\n",
       "      <th>4</th>\n",
       "      <td>AK</td>\n",
       "      <td>99505</td>\n",
       "      <td>2290.0</td>\n",
       "      <td>2290.0</td>\n",
       "      <td>89034.0</td>\n",
       "      <td>38.879476</td>\n",
       "    </tr>\n",
       "    <tr>\n",
       "      <th>...</th>\n",
       "      <td>...</td>\n",
       "      <td>...</td>\n",
       "      <td>...</td>\n",
       "      <td>...</td>\n",
       "      <td>...</td>\n",
       "      <td>...</td>\n",
       "    </tr>\n",
       "    <tr>\n",
       "      <th>27653</th>\n",
       "      <td>WY</td>\n",
       "      <td>83123</td>\n",
       "      <td>270.0</td>\n",
       "      <td>270.0</td>\n",
       "      <td>17304.0</td>\n",
       "      <td>64.088889</td>\n",
       "    </tr>\n",
       "    <tr>\n",
       "      <th>27654</th>\n",
       "      <td>WY</td>\n",
       "      <td>83126</td>\n",
       "      <td>180.0</td>\n",
       "      <td>180.0</td>\n",
       "      <td>11778.0</td>\n",
       "      <td>65.433333</td>\n",
       "    </tr>\n",
       "    <tr>\n",
       "      <th>27655</th>\n",
       "      <td>WY</td>\n",
       "      <td>83127</td>\n",
       "      <td>1550.0</td>\n",
       "      <td>1550.0</td>\n",
       "      <td>130386.0</td>\n",
       "      <td>84.120000</td>\n",
       "    </tr>\n",
       "    <tr>\n",
       "      <th>27656</th>\n",
       "      <td>WY</td>\n",
       "      <td>83128</td>\n",
       "      <td>950.0</td>\n",
       "      <td>950.0</td>\n",
       "      <td>89831.0</td>\n",
       "      <td>94.558947</td>\n",
       "    </tr>\n",
       "    <tr>\n",
       "      <th>27657</th>\n",
       "      <td>WY</td>\n",
       "      <td>83414</td>\n",
       "      <td>220.0</td>\n",
       "      <td>220.0</td>\n",
       "      <td>41804.0</td>\n",
       "      <td>190.018182</td>\n",
       "    </tr>\n",
       "  </tbody>\n",
       "</table>\n",
       "<p>27658 rows × 6 columns</p>\n",
       "</div>"
      ],
      "text/plain": [
       "      STATE zipcode       N1   N02650     A02650  avg_income\n",
       "0        AK   99501   7740.0   7740.0   581650.0   75.148579\n",
       "1        AK   99502  11690.0  11690.0   996844.0   85.273225\n",
       "2        AK   99503   7670.0   7670.0   444587.0   57.964407\n",
       "3        AK   99504  19120.0  19120.0  1120829.0   58.620764\n",
       "4        AK   99505   2290.0   2290.0    89034.0   38.879476\n",
       "...     ...     ...      ...      ...        ...         ...\n",
       "27653    WY   83123    270.0    270.0    17304.0   64.088889\n",
       "27654    WY   83126    180.0    180.0    11778.0   65.433333\n",
       "27655    WY   83127   1550.0   1550.0   130386.0   84.120000\n",
       "27656    WY   83128    950.0    950.0    89831.0   94.558947\n",
       "27657    WY   83414    220.0    220.0    41804.0  190.018182\n",
       "\n",
       "[27658 rows x 6 columns]"
      ]
     },
     "execution_count": 292,
     "metadata": {},
     "output_type": "execute_result"
    }
   ],
   "source": [
    "irs_wip = irs_wip_df_grouped_zip.astype({'zipcode':'str'})\n",
    "# irs_wip['min_income'] = irs_wip.groupby('STATE').min()"
   ]
  },
  {
   "cell_type": "code",
   "execution_count": 15,
   "metadata": {},
   "outputs": [],
   "source": [
    "irs_wip_df_grouped_state = irs_wip_df.groupby(['STATE'], as_index=False).sum()\n",
    "irs_wip_df_grouped_state.drop('zipcode', axis=1)\n",
    "irs_wip_df_grouped_state['avg_income'] = irs_wip_df_grouped_state['A02650']/irs_wip_df_grouped_state['N1']"
   ]
  },
  {
   "cell_type": "code",
   "execution_count": 63,
   "metadata": {},
   "outputs": [],
   "source": [
    "irs_wip_df_grouped_state.drop(['N00200','A00200'], axis=1).to_csv('../data/eda_irsstate_data.csv')"
   ]
  },
  {
   "cell_type": "code",
   "execution_count": 16,
   "metadata": {},
   "outputs": [
    {
     "data": {
      "text/html": [
       "<div>\n",
       "<style scoped>\n",
       "    .dataframe tbody tr th:only-of-type {\n",
       "        vertical-align: middle;\n",
       "    }\n",
       "\n",
       "    .dataframe tbody tr th {\n",
       "        vertical-align: top;\n",
       "    }\n",
       "\n",
       "    .dataframe thead th {\n",
       "        text-align: right;\n",
       "    }\n",
       "</style>\n",
       "<table border=\"1\" class=\"dataframe\">\n",
       "  <thead>\n",
       "    <tr style=\"text-align: right;\">\n",
       "      <th></th>\n",
       "      <th>STATE</th>\n",
       "      <th>zipcode</th>\n",
       "      <th>N1</th>\n",
       "      <th>N02650</th>\n",
       "      <th>A02650</th>\n",
       "      <th>N00200</th>\n",
       "      <th>A00200</th>\n",
       "      <th>avg_income</th>\n",
       "    </tr>\n",
       "  </thead>\n",
       "  <tbody>\n",
       "    <tr>\n",
       "      <th>0</th>\n",
       "      <td>AK</td>\n",
       "      <td>31685718</td>\n",
       "      <td>271430.0</td>\n",
       "      <td>271430.0</td>\n",
       "      <td>1.981859e+07</td>\n",
       "      <td>228620.0</td>\n",
       "      <td>1.363847e+07</td>\n",
       "      <td>73.015474</td>\n",
       "    </tr>\n",
       "    <tr>\n",
       "      <th>1</th>\n",
       "      <td>AL</td>\n",
       "      <td>123817728</td>\n",
       "      <td>2004610.0</td>\n",
       "      <td>2004610.0</td>\n",
       "      <td>1.182767e+08</td>\n",
       "      <td>1680900.0</td>\n",
       "      <td>8.245736e+07</td>\n",
       "      <td>59.002342</td>\n",
       "    </tr>\n",
       "    <tr>\n",
       "      <th>2</th>\n",
       "      <td>AR</td>\n",
       "      <td>211956168</td>\n",
       "      <td>1184370.0</td>\n",
       "      <td>1184370.0</td>\n",
       "      <td>7.319250e+07</td>\n",
       "      <td>996860.0</td>\n",
       "      <td>4.716417e+07</td>\n",
       "      <td>61.798674</td>\n",
       "    </tr>\n",
       "    <tr>\n",
       "      <th>3</th>\n",
       "      <td>AZ</td>\n",
       "      <td>150362748</td>\n",
       "      <td>2826980.0</td>\n",
       "      <td>2826980.0</td>\n",
       "      <td>1.932967e+08</td>\n",
       "      <td>2307910.0</td>\n",
       "      <td>1.272016e+08</td>\n",
       "      <td>68.375681</td>\n",
       "    </tr>\n",
       "    <tr>\n",
       "      <th>4</th>\n",
       "      <td>CA</td>\n",
       "      <td>828223513</td>\n",
       "      <td>17450170.0</td>\n",
       "      <td>17450150.0</td>\n",
       "      <td>1.530930e+09</td>\n",
       "      <td>14498110.0</td>\n",
       "      <td>1.017844e+09</td>\n",
       "      <td>87.731510</td>\n",
       "    </tr>\n",
       "  </tbody>\n",
       "</table>\n",
       "</div>"
      ],
      "text/plain": [
       "  STATE    zipcode          N1      N02650        A02650      N00200  \\\n",
       "0    AK   31685718    271430.0    271430.0  1.981859e+07    228620.0   \n",
       "1    AL  123817728   2004610.0   2004610.0  1.182767e+08   1680900.0   \n",
       "2    AR  211956168   1184370.0   1184370.0  7.319250e+07    996860.0   \n",
       "3    AZ  150362748   2826980.0   2826980.0  1.932967e+08   2307910.0   \n",
       "4    CA  828223513  17450170.0  17450150.0  1.530930e+09  14498110.0   \n",
       "\n",
       "         A00200  avg_income  \n",
       "0  1.363847e+07   73.015474  \n",
       "1  8.245736e+07   59.002342  \n",
       "2  4.716417e+07   61.798674  \n",
       "3  1.272016e+08   68.375681  \n",
       "4  1.017844e+09   87.731510  "
      ]
     },
     "execution_count": 16,
     "metadata": {},
     "output_type": "execute_result"
    }
   ],
   "source": [
    "irs_wip_df_grouped_state.head()"
   ]
  },
  {
   "cell_type": "code",
   "execution_count": 356,
   "metadata": {},
   "outputs": [
    {
     "data": {
      "image/png": "[encoded data removed]",
      "text/plain": [
       "<Figure size 864x432 with 1 Axes>"
      ]
     },
     "metadata": {
      "needs_background": "light"
     },
     "output_type": "display_data"
    }
   ],
   "source": [
    "fig, ax = plt.subplots(figsize=(12,6))\n",
    "\n",
    "ax.bar(irs_wip_df_grouped_state['STATE'], height=irs_wip_df_grouped_state['A02650'])\n",
    "ax.set_title('Total Individual Income by State ($100,000)', size=20)\n",
    "ax.set_xticklabels(irs_wip_df_grouped_state['STATE'], rotation=90)\n",
    "ax.set_xlabel('State', size=15)\n",
    "ax.set_ylabel('Income', size=15)\n",
    "fig.savefig('../images/total_ind_income_state.png');"
   ]
  },
  {
   "cell_type": "markdown",
   "metadata": {},
   "source": [
    "## NP DF Scrub"
   ]
  },
  {
   "cell_type": "code",
   "execution_count": 18,
   "metadata": {},
   "outputs": [
    {
     "name": "stdout",
     "output_type": "stream",
     "text": [
      "<class 'pandas.core.frame.DataFrame'>\n",
      "RangeIndex: 1764827 entries, 0 to 1764826\n",
      "Data columns (total 29 columns):\n",
      " #   Column            Dtype  \n",
      "---  ------            -----  \n",
      " 0   Unnamed: 0        int64  \n",
      " 1   EIN               int64  \n",
      " 2   NAME              object \n",
      " 3   ICO               object \n",
      " 4   STREET            object \n",
      " 5   CITY              object \n",
      " 6   STATE             object \n",
      " 7   ZIP               object \n",
      " 8   GROUP             int64  \n",
      " 9   SUBSECTION        int64  \n",
      " 10  AFFILIATION       int64  \n",
      " 11  CLASSIFICATION    int64  \n",
      " 12  RULING            int64  \n",
      " 13  DEDUCTIBILITY     int64  \n",
      " 14  FOUNDATION        int64  \n",
      " 15  ACTIVITY          int64  \n",
      " 16  ORGANIZATION      int64  \n",
      " 17  STATUS            int64  \n",
      " 18  TAX_PERIOD        float64\n",
      " 19  ASSET_CD          int64  \n",
      " 20  INCOME_CD         int64  \n",
      " 21  FILING_REQ_CD     int64  \n",
      " 22  PF_FILING_REQ_CD  int64  \n",
      " 23  ACCT_PD           int64  \n",
      " 24  ASSET_AMT         float64\n",
      " 25  INCOME_AMT        float64\n",
      " 26  REVENUE_AMT       float64\n",
      " 27  NTEE_CD           object \n",
      " 28  SORT_NAME         object \n",
      "dtypes: float64(4), int64(17), object(8)\n",
      "memory usage: 390.5+ MB\n"
     ]
    }
   ],
   "source": [
    "irs_np.info()"
   ]
  },
  {
   "cell_type": "code",
   "execution_count": 23,
   "metadata": {},
   "outputs": [],
   "source": [
    "np_irs_col = irs_np.drop(['Unnamed: 0','EIN','ICO','GROUP','AFFILIATION','RULING', 'DEDUCTIBILITY', 'ACTIVITY','ORGANIZATION','STATUS', 'TAX_PERIOD','ASSET_CD','INCOME_CD','FILING_REQ_CD','PF_FILING_REQ_CD','ACCT_PD','SORT_NAME'], axis=1)"
   ]
  },
  {
   "cell_type": "code",
   "execution_count": 357,
   "metadata": {},
   "outputs": [],
   "source": [
    "# np_irs_col.head()"
   ]
  },
  {
   "cell_type": "code",
   "execution_count": 46,
   "metadata": {},
   "outputs": [],
   "source": [
    "#dropped all rows where rev_amt & state had null value. State null\n",
    "#means out of country registered in US\n",
    "np_irs_col_null = np_irs_col.dropna(subset=['STATE','REVENUE_AMT'],axis=0).drop('STREET', axis=1)"
   ]
  },
  {
   "cell_type": "code",
   "execution_count": 358,
   "metadata": {},
   "outputs": [],
   "source": [
    "#i need to drop the several territories\n",
    "\n",
    "city_np_count = pd.DataFrame(np_irs_col_null['CITY'].value_counts())\n",
    "state_np_count = pd.DataFrame(np_irs_col_null['STATE'].value_counts())\n",
    "# city_np_count"
   ]
  },
  {
   "cell_type": "code",
   "execution_count": 352,
   "metadata": {},
   "outputs": [
    {
     "data": {
      "text/plain": [
       "''"
      ]
     },
     "execution_count": 352,
     "metadata": {},
     "output_type": "execute_result"
    },
    {
     "data": {
      "image/png": "[encoded data removed]",
      "text/plain": [
       "<Figure size 864x432 with 1 Axes>"
      ]
     },
     "metadata": {
      "needs_background": "light"
     },
     "output_type": "display_data"
    }
   ],
   "source": [
    "np_irs_sum_rev = np_irs_col_null.groupby('STATE').sum().drop(['SUBSECTION','CLASSIFICATION','FOUNDATION'], axis=1).sort_values(by='REVENUE_AMT', )\n",
    "x1 = pd.DataFrame(np_irs_sum_rev['REVENUE_AMT'])\n",
    "# # sns.heatmap(x1,)\n",
    "\n",
    "# fig, ax = plt.subplots(figsize=(16,6))\n",
    "# ax.bar(x1.index, height=x1['REVENUE_AMT'])\n",
    "# ax.set_xticklabels(x1.index, rotaton=90)\n",
    "\n",
    "fig, ax = plt.subplots(figsize=(12,6))\n",
    "\n",
    "ax.bar(x1.index, height=x1['REVENUE_AMT'])\n",
    "ax.set_title('Total Non-Profit Revenue by State ($1,000,000)', size=20)\n",
    "ax.set_xticklabels(x1.index, rotation=90)\n",
    "ax.set_xlabel('State', size=15)\n",
    "ax.set_ylabel('Revenue', size=15)\n",
    "# fig.savefig('../images/total_ind_income_state.png');\n",
    ";"
   ]
  },
  {
   "cell_type": "code",
   "execution_count": 47,
   "metadata": {},
   "outputs": [
    {
     "name": "stdout",
     "output_type": "stream",
     "text": [
      "<class 'pandas.core.frame.DataFrame'>\n",
      "Int64Index: 1258774 entries, 12 to 1764811\n",
      "Data columns (total 11 columns):\n",
      " #   Column          Non-Null Count    Dtype  \n",
      "---  ------          --------------    -----  \n",
      " 0   NAME            1258774 non-null  object \n",
      " 1   CITY            1258774 non-null  object \n",
      " 2   STATE           1258774 non-null  object \n",
      " 3   ZIP             1258774 non-null  object \n",
      " 4   SUBSECTION      1258774 non-null  int64  \n",
      " 5   CLASSIFICATION  1258774 non-null  int64  \n",
      " 6   FOUNDATION      1258774 non-null  int64  \n",
      " 7   ASSET_AMT       1258774 non-null  float64\n",
      " 8   INCOME_AMT      1258774 non-null  float64\n",
      " 9   REVENUE_AMT     1258774 non-null  float64\n",
      " 10  NTEE_CD         850459 non-null   object \n",
      "dtypes: float64(3), int64(3), object(5)\n",
      "memory usage: 115.2+ MB\n"
     ]
    }
   ],
   "source": [
    "np_irs_col_null.info()"
   ]
  },
  {
   "cell_type": "code",
   "execution_count": 183,
   "metadata": {},
   "outputs": [
    {
     "data": {
      "text/plain": [
       "array([      0.,  123377.,  152931., ..., 1943887., 1516318., 1778221.])"
      ]
     },
     "execution_count": 183,
     "metadata": {},
     "output_type": "execute_result"
    }
   ],
   "source": [
    "rev_distribution = np.array(np_irs_col_null['REVENUE_AMT'])\n",
    "rev_distribution"
   ]
  },
  {
   "cell_type": "code",
   "execution_count": 184,
   "metadata": {},
   "outputs": [],
   "source": [
    "#split zipcode & postal code so I can match with income & census data\n",
    "np_irs_col_null['zipcode'] = np_irs_col_null['ZIP'].str.split('-', expand=True)[0]"
   ]
  },
  {
   "cell_type": "code",
   "execution_count": 185,
   "metadata": {},
   "outputs": [
    {
     "data": {
      "text/plain": [
       "50312    6397\n",
       "39236    1524\n",
       "20036    1376\n",
       "64114    1322\n",
       "46268    1251\n",
       "         ... \n",
       "67470       1\n",
       "37729       1\n",
       "84621       1\n",
       "33521       1\n",
       "22718       1\n",
       "Name: zipcode, Length: 35517, dtype: int64"
      ]
     },
     "execution_count": 185,
     "metadata": {},
     "output_type": "execute_result"
    }
   ],
   "source": [
    "np_irs_col_null['zipcode'].value_counts()"
   ]
  },
  {
   "cell_type": "code",
   "execution_count": 200,
   "metadata": {},
   "outputs": [
    {
     "name": "stdout",
     "output_type": "stream",
     "text": [
      "<class 'pandas.core.frame.DataFrame'>\n",
      "Int64Index: 1258774 entries, 12 to 1764811\n",
      "Data columns (total 12 columns):\n",
      " #   Column          Non-Null Count    Dtype  \n",
      "---  ------          --------------    -----  \n",
      " 0   NAME            1258774 non-null  object \n",
      " 1   CITY            1258774 non-null  object \n",
      " 2   STATE           1258774 non-null  object \n",
      " 3   ZIP             1258774 non-null  object \n",
      " 4   SUBSECTION      1258774 non-null  int64  \n",
      " 5   CLASSIFICATION  1258774 non-null  int64  \n",
      " 6   FOUNDATION      1258774 non-null  int64  \n",
      " 7   ASSET_AMT       1258774 non-null  float64\n",
      " 8   INCOME_AMT      1258774 non-null  float64\n",
      " 9   REVENUE_AMT     1258774 non-null  float64\n",
      " 10  NTEE_CD         850459 non-null   object \n",
      " 11  zipcode         1258774 non-null  object \n",
      "dtypes: float64(3), int64(3), object(6)\n",
      "memory usage: 124.8+ MB\n"
     ]
    }
   ],
   "source": [
    "np_irs_col_null.astype({'zipcode':'str'})\n",
    "np_irs_col_null.info()"
   ]
  },
  {
   "cell_type": "markdown",
   "metadata": {},
   "source": [
    "## Census DF Scrub"
   ]
  },
  {
   "cell_type": "code",
   "execution_count": 336,
   "metadata": {},
   "outputs": [],
   "source": [
    "# cen_income.head()"
   ]
  },
  {
   "cell_type": "code",
   "execution_count": 151,
   "metadata": {},
   "outputs": [],
   "source": [
    "cen_income['CITY'] = cen_income['NAME'].str.split(',', expand=True)[0]\n",
    "cen_income['STATE'] = cen_income['NAME'].str.split(',', expand=True)[1]"
   ]
  },
  {
   "cell_type": "code",
   "execution_count": 335,
   "metadata": {
    "scrolled": true
   },
   "outputs": [],
   "source": [
    "# cen_income.head()"
   ]
  },
  {
   "cell_type": "code",
   "execution_count": 153,
   "metadata": {},
   "outputs": [],
   "source": [
    "del_word = ['city', 'town', 'village', 'CDP', 'county', 'consolidated', 'Urban', 'Count', 'government',  ]\n",
    "\n",
    "def split_words(col_array, del_words_list):\n",
    "       return col_array.str.split(' ').apply(lambda x: ' '.join([word for word in x if word not in del_words_list]))\n",
    "\n",
    "cen_income['CITY'] = split_words(cen_income['CITY'], del_word)\n",
    "        \n",
    "        #word for word in x if word not in del_word"
   ]
  },
  {
   "cell_type": "code",
   "execution_count": 154,
   "metadata": {},
   "outputs": [],
   "source": [
    "cen_income_clean = cen_income.copy()\n",
    "cen_income_clean.to_csv('../data/eda_cen_income_data.csv')"
   ]
  },
  {
   "cell_type": "code",
   "execution_count": 334,
   "metadata": {},
   "outputs": [],
   "source": [
    "# cen_income_clean"
   ]
  },
  {
   "cell_type": "code",
   "execution_count": 213,
   "metadata": {},
   "outputs": [],
   "source": [
    "income_np_merge = pd.merge(irs_wip, np_irs_col_null, on='zipcode')"
   ]
  },
  {
   "cell_type": "code",
   "execution_count": 309,
   "metadata": {},
   "outputs": [
    {
     "data": {
      "image/png": "[encoded data removed]",
      "text/plain": [
       "<Figure size 864x432 with 1 Axes>"
      ]
     },
     "metadata": {
      "needs_background": "light"
     },
     "output_type": "display_data"
    }
   ],
   "source": [
    "x = income_np_merge['avg_income']/100\n",
    "y = income_np_merge['REVENUE_AMT']/1000000000\n",
    "\n",
    "\n",
    "# y = np.linspace(0,1000000,200000000)\n",
    "\n",
    "\n",
    "plt.figure(figsize=(12,6))\n",
    "# plt.yticks(y)\n",
    "plt.ylim(0,6)\n",
    "plt.xlim(0,15)\n",
    "plt.scatter(x, y, alpha=.3)\n",
    "plt.show()\n",
    "\n",
    "#need to remove some outliers that are skewing my data\n",
    "#might be skewed due to density, so get per capita income"
   ]
  },
  {
   "cell_type": "code",
   "execution_count": 239,
   "metadata": {},
   "outputs": [
    {
     "data": {
      "image/png": "[encoded data removed]",
      "text/plain": [
       "<Figure size 864x432 with 1 Axes>"
      ]
     },
     "metadata": {
      "needs_background": "light"
     },
     "output_type": "display_data"
    }
   ],
   "source": [
    "x = income_np_merge['avg_income']\n",
    "\n",
    "\n",
    "plt.figure(figsize=(12,6))\n",
    "plt.xlim(0, 200)\n",
    "plt.hist(x, bins=1000)\n",
    "plt.show()\n",
    "\n",
    "#pareto distribution which is very typical for income 80% pop only has 20% of wealth/income"
   ]
  },
  {
   "cell_type": "code",
   "execution_count": 311,
   "metadata": {},
   "outputs": [
    {
     "data": {
      "image/png": "[encoded data removed]",
      "text/plain": [
       "<Figure size 864x432 with 1 Axes>"
      ]
     },
     "metadata": {
      "needs_background": "light"
     },
     "output_type": "display_data"
    },
    {
     "data": {
      "text/plain": [
       "0           154543.0\n",
       "1          6823299.0\n",
       "2                0.0\n",
       "3           883302.0\n",
       "4                0.0\n",
       "             ...    \n",
       "1017126          0.0\n",
       "1017127          0.0\n",
       "1017128     225000.0\n",
       "1017129          0.0\n",
       "1017130          0.0\n",
       "Name: REVENUE_AMT, Length: 1017131, dtype: float64"
      ]
     },
     "execution_count": 311,
     "metadata": {},
     "output_type": "execute_result"
    }
   ],
   "source": [
    "x = income_np_merge['REVENUE_AMT']\n",
    "\n",
    "\n",
    "plt.figure(figsize=(12,6))\n",
    "# plt.xlim(0, 1000)\n",
    "plt.hist(x, bins=10)\n",
    "plt.show()\n",
    "x"
   ]
  },
  {
   "cell_type": "code",
   "execution_count": 265,
   "metadata": {},
   "outputs": [
    {
     "data": {
      "image/png": "[encoded data removed]",
      "text/plain": [
       "<Figure size 864x432 with 1 Axes>"
      ]
     },
     "metadata": {
      "needs_background": "light"
     },
     "output_type": "display_data"
    }
   ],
   "source": [
    "revs = income_np_merge[income_np_merge['REVENUE_AMT']< 10000]['REVENUE_AMT']\n",
    "\n",
    "revs\n",
    "\n",
    "plt.figure(figsize=(12,6))\n",
    "plt.xlim(0, )\n",
    "plt.hist(revs, bins=1000)\n",
    "plt.show()"
   ]
  },
  {
   "cell_type": "code",
   "execution_count": 361,
   "metadata": {},
   "outputs": [
    {
     "data": {
      "text/html": [
       "<div>\n",
       "<style scoped>\n",
       "    .dataframe tbody tr th:only-of-type {\n",
       "        vertical-align: middle;\n",
       "    }\n",
       "\n",
       "    .dataframe tbody tr th {\n",
       "        vertical-align: top;\n",
       "    }\n",
       "\n",
       "    .dataframe thead th {\n",
       "        text-align: right;\n",
       "    }\n",
       "</style>\n",
       "<table border=\"1\" class=\"dataframe\">\n",
       "  <thead>\n",
       "    <tr style=\"text-align: right;\">\n",
       "      <th></th>\n",
       "      <th>STATE_x</th>\n",
       "      <th>zipcode</th>\n",
       "      <th>N1</th>\n",
       "      <th>N02650</th>\n",
       "      <th>A02650</th>\n",
       "      <th>avg_income</th>\n",
       "      <th>NAME</th>\n",
       "      <th>CITY</th>\n",
       "      <th>STATE_y</th>\n",
       "      <th>ZIP</th>\n",
       "      <th>SUBSECTION</th>\n",
       "      <th>CLASSIFICATION</th>\n",
       "      <th>FOUNDATION</th>\n",
       "      <th>ASSET_AMT</th>\n",
       "      <th>INCOME_AMT</th>\n",
       "      <th>REVENUE_AMT</th>\n",
       "      <th>NTEE_CD</th>\n",
       "    </tr>\n",
       "  </thead>\n",
       "  <tbody>\n",
       "    <tr>\n",
       "      <th>0</th>\n",
       "      <td>AK</td>\n",
       "      <td>99501</td>\n",
       "      <td>7740.0</td>\n",
       "      <td>7740.0</td>\n",
       "      <td>581650.0</td>\n",
       "      <td>75.148579</td>\n",
       "      <td>AFACT-ANCHORAGE FAITH &amp; ACTION- CONGREGATIONS ...</td>\n",
       "      <td>ANCHORAGE</td>\n",
       "      <td>AK</td>\n",
       "      <td>99501-2409</td>\n",
       "      <td>3</td>\n",
       "      <td>7200</td>\n",
       "      <td>15</td>\n",
       "      <td>45396.0</td>\n",
       "      <td>154543.0</td>\n",
       "      <td>154543.0</td>\n",
       "      <td>X012</td>\n",
       "    </tr>\n",
       "    <tr>\n",
       "      <th>1</th>\n",
       "      <td>AK</td>\n",
       "      <td>99501</td>\n",
       "      <td>7740.0</td>\n",
       "      <td>7740.0</td>\n",
       "      <td>581650.0</td>\n",
       "      <td>75.148579</td>\n",
       "      <td>COVENANT HOUSE ALASKA</td>\n",
       "      <td>ANCHORAGE</td>\n",
       "      <td>AK</td>\n",
       "      <td>99501-3625</td>\n",
       "      <td>3</td>\n",
       "      <td>1000</td>\n",
       "      <td>15</td>\n",
       "      <td>21108722.0</td>\n",
       "      <td>8763496.0</td>\n",
       "      <td>6823299.0</td>\n",
       "      <td>P300</td>\n",
       "    </tr>\n",
       "    <tr>\n",
       "      <th>2</th>\n",
       "      <td>AK</td>\n",
       "      <td>99501</td>\n",
       "      <td>7740.0</td>\n",
       "      <td>7740.0</td>\n",
       "      <td>581650.0</td>\n",
       "      <td>75.148579</td>\n",
       "      <td>HELPFUL HEARTS</td>\n",
       "      <td>ANCHORAGE</td>\n",
       "      <td>AK</td>\n",
       "      <td>99501-5791</td>\n",
       "      <td>3</td>\n",
       "      <td>1000</td>\n",
       "      <td>15</td>\n",
       "      <td>0.0</td>\n",
       "      <td>0.0</td>\n",
       "      <td>0.0</td>\n",
       "      <td>P11</td>\n",
       "    </tr>\n",
       "    <tr>\n",
       "      <th>3</th>\n",
       "      <td>AK</td>\n",
       "      <td>99501</td>\n",
       "      <td>7740.0</td>\n",
       "      <td>7740.0</td>\n",
       "      <td>581650.0</td>\n",
       "      <td>75.148579</td>\n",
       "      <td>ALASKA CORRECTIONAL OFFICERS ASSOCIATION INC</td>\n",
       "      <td>ANCHORAGE</td>\n",
       "      <td>AK</td>\n",
       "      <td>99501-2519</td>\n",
       "      <td>5</td>\n",
       "      <td>3000</td>\n",
       "      <td>0</td>\n",
       "      <td>1846516.0</td>\n",
       "      <td>915606.0</td>\n",
       "      <td>883302.0</td>\n",
       "      <td>J40</td>\n",
       "    </tr>\n",
       "    <tr>\n",
       "      <th>4</th>\n",
       "      <td>AK</td>\n",
       "      <td>99501</td>\n",
       "      <td>7740.0</td>\n",
       "      <td>7740.0</td>\n",
       "      <td>581650.0</td>\n",
       "      <td>75.148579</td>\n",
       "      <td>SOBERMIUT REVIVING OUR SPIRIT INC</td>\n",
       "      <td>ANCHORAGE</td>\n",
       "      <td>AK</td>\n",
       "      <td>99501-5231</td>\n",
       "      <td>3</td>\n",
       "      <td>2000</td>\n",
       "      <td>15</td>\n",
       "      <td>0.0</td>\n",
       "      <td>0.0</td>\n",
       "      <td>0.0</td>\n",
       "      <td>X20</td>\n",
       "    </tr>\n",
       "  </tbody>\n",
       "</table>\n",
       "</div>"
      ],
      "text/plain": [
       "  STATE_x zipcode      N1  N02650    A02650  avg_income  \\\n",
       "0      AK   99501  7740.0  7740.0  581650.0   75.148579   \n",
       "1      AK   99501  7740.0  7740.0  581650.0   75.148579   \n",
       "2      AK   99501  7740.0  7740.0  581650.0   75.148579   \n",
       "3      AK   99501  7740.0  7740.0  581650.0   75.148579   \n",
       "4      AK   99501  7740.0  7740.0  581650.0   75.148579   \n",
       "\n",
       "                                                NAME       CITY STATE_y  \\\n",
       "0  AFACT-ANCHORAGE FAITH & ACTION- CONGREGATIONS ...  ANCHORAGE      AK   \n",
       "1                              COVENANT HOUSE ALASKA  ANCHORAGE      AK   \n",
       "2                                     HELPFUL HEARTS  ANCHORAGE      AK   \n",
       "3       ALASKA CORRECTIONAL OFFICERS ASSOCIATION INC  ANCHORAGE      AK   \n",
       "4                  SOBERMIUT REVIVING OUR SPIRIT INC  ANCHORAGE      AK   \n",
       "\n",
       "          ZIP  SUBSECTION  CLASSIFICATION  FOUNDATION   ASSET_AMT  INCOME_AMT  \\\n",
       "0  99501-2409           3            7200          15     45396.0    154543.0   \n",
       "1  99501-3625           3            1000          15  21108722.0   8763496.0   \n",
       "2  99501-5791           3            1000          15         0.0         0.0   \n",
       "3  99501-2519           5            3000           0   1846516.0    915606.0   \n",
       "4  99501-5231           3            2000          15         0.0         0.0   \n",
       "\n",
       "   REVENUE_AMT NTEE_CD  \n",
       "0     154543.0    X012  \n",
       "1    6823299.0    P300  \n",
       "2          0.0     P11  \n",
       "3     883302.0     J40  \n",
       "4          0.0     X20  "
      ]
     },
     "execution_count": 361,
     "metadata": {},
     "output_type": "execute_result"
    }
   ],
   "source": [
    "income_np_merge.head()"
   ]
  },
  {
   "cell_type": "code",
   "execution_count": 363,
   "metadata": {},
   "outputs": [
    {
     "name": "stdout",
     "output_type": "stream",
     "text": [
      "<class 'pandas.core.frame.DataFrame'>\n",
      "Int64Index: 1017131 entries, 0 to 1017130\n",
      "Data columns (total 17 columns):\n",
      " #   Column          Non-Null Count    Dtype  \n",
      "---  ------          --------------    -----  \n",
      " 0   STATE_x         1017131 non-null  object \n",
      " 1   zipcode         1017131 non-null  object \n",
      " 2   N1              1017131 non-null  float64\n",
      " 3   N02650          1017131 non-null  float64\n",
      " 4   A02650          1017131 non-null  float64\n",
      " 5   avg_income      1017131 non-null  float64\n",
      " 6   NAME            1017131 non-null  object \n",
      " 7   CITY            1017131 non-null  object \n",
      " 8   STATE_y         1017131 non-null  object \n",
      " 9   ZIP             1017131 non-null  object \n",
      " 10  SUBSECTION      1017131 non-null  int64  \n",
      " 11  CLASSIFICATION  1017131 non-null  int64  \n",
      " 12  FOUNDATION      1017131 non-null  int64  \n",
      " 13  ASSET_AMT       1017131 non-null  float64\n",
      " 14  INCOME_AMT      1017131 non-null  float64\n",
      " 15  REVENUE_AMT     1017131 non-null  float64\n",
      " 16  NTEE_CD         691408 non-null   object \n",
      "dtypes: float64(7), int64(3), object(7)\n",
      "memory usage: 139.7+ MB\n"
     ]
    }
   ],
   "source": [
    "income_np_merge.info()"
   ]
  },
  {
   "cell_type": "code",
   "execution_count": 368,
   "metadata": {},
   "outputs": [
    {
     "data": {
      "text/plain": [
       "2          1\n",
       "7          1\n",
       "6          1\n",
       "25         4\n",
       "18        38\n",
       "3        115\n",
       "24       124\n",
       "14       189\n",
       "23       336\n",
       "9        441\n",
       "22       464\n",
       "4        792\n",
       "13      1102\n",
       "21      2560\n",
       "12      4360\n",
       "10     13274\n",
       "17     13650\n",
       "11     16385\n",
       "0     262501\n",
       "16    264302\n",
       "15    436491\n",
       "Name: FOUNDATION, dtype: int64"
      ]
     },
     "execution_count": 368,
     "metadata": {},
     "output_type": "execute_result"
    }
   ],
   "source": [
    "income_np_merge.FOUNDATION.value_counts().sort_values()"
   ]
  },
  {
   "cell_type": "code",
   "execution_count": 369,
   "metadata": {},
   "outputs": [
    {
     "data": {
      "text/plain": [
       "23         1\n",
       "18         1\n",
       "20         2\n",
       "50         3\n",
       "27         3\n",
       "26         3\n",
       "11         4\n",
       "82         4\n",
       "0          7\n",
       "16        10\n",
       "29        14\n",
       "1         27\n",
       "17        59\n",
       "91       199\n",
       "15       201\n",
       "25       297\n",
       "14      1293\n",
       "2       3504\n",
       "9       4301\n",
       "12      4332\n",
       "13      7815\n",
       "10     10387\n",
       "19     23171\n",
       "8      32518\n",
       "7      33819\n",
       "5      34965\n",
       "6      47579\n",
       "4      58125\n",
       "3     754487\n",
       "Name: SUBSECTION, dtype: int64"
      ]
     },
     "execution_count": 369,
     "metadata": {},
     "output_type": "execute_result"
    }
   ],
   "source": [
    "income_np_merge.SUBSECTION.value_counts().sort_values()"
   ]
  },
  {
   "cell_type": "code",
   "execution_count": 371,
   "metadata": {},
   "outputs": [
    {
     "data": {
      "text/html": [
       "<div>\n",
       "<style scoped>\n",
       "    .dataframe tbody tr th:only-of-type {\n",
       "        vertical-align: middle;\n",
       "    }\n",
       "\n",
       "    .dataframe tbody tr th {\n",
       "        vertical-align: top;\n",
       "    }\n",
       "\n",
       "    .dataframe thead th {\n",
       "        text-align: right;\n",
       "    }\n",
       "</style>\n",
       "<table border=\"1\" class=\"dataframe\">\n",
       "  <thead>\n",
       "    <tr style=\"text-align: right;\">\n",
       "      <th></th>\n",
       "      <th>STATE_x</th>\n",
       "      <th>zipcode</th>\n",
       "      <th>N1</th>\n",
       "      <th>N02650</th>\n",
       "      <th>A02650</th>\n",
       "      <th>avg_income</th>\n",
       "      <th>NAME</th>\n",
       "      <th>CITY</th>\n",
       "      <th>STATE_y</th>\n",
       "      <th>ZIP</th>\n",
       "      <th>SUBSECTION</th>\n",
       "      <th>CLASSIFICATION</th>\n",
       "      <th>FOUNDATION</th>\n",
       "      <th>ASSET_AMT</th>\n",
       "      <th>INCOME_AMT</th>\n",
       "      <th>REVENUE_AMT</th>\n",
       "      <th>NTEE_CD</th>\n",
       "    </tr>\n",
       "  </thead>\n",
       "  <tbody>\n",
       "    <tr>\n",
       "      <th>0</th>\n",
       "      <td>AK</td>\n",
       "      <td>99501</td>\n",
       "      <td>7740.0</td>\n",
       "      <td>7740.0</td>\n",
       "      <td>581650.0</td>\n",
       "      <td>75.148579</td>\n",
       "      <td>AFACT-ANCHORAGE FAITH &amp; ACTION- CONGREGATIONS ...</td>\n",
       "      <td>ANCHORAGE</td>\n",
       "      <td>AK</td>\n",
       "      <td>99501-2409</td>\n",
       "      <td>3</td>\n",
       "      <td>7200</td>\n",
       "      <td>15</td>\n",
       "      <td>45396.0</td>\n",
       "      <td>154543.0</td>\n",
       "      <td>154543.0</td>\n",
       "      <td>X012</td>\n",
       "    </tr>\n",
       "    <tr>\n",
       "      <th>1</th>\n",
       "      <td>AK</td>\n",
       "      <td>99501</td>\n",
       "      <td>7740.0</td>\n",
       "      <td>7740.0</td>\n",
       "      <td>581650.0</td>\n",
       "      <td>75.148579</td>\n",
       "      <td>COVENANT HOUSE ALASKA</td>\n",
       "      <td>ANCHORAGE</td>\n",
       "      <td>AK</td>\n",
       "      <td>99501-3625</td>\n",
       "      <td>3</td>\n",
       "      <td>1000</td>\n",
       "      <td>15</td>\n",
       "      <td>21108722.0</td>\n",
       "      <td>8763496.0</td>\n",
       "      <td>6823299.0</td>\n",
       "      <td>P300</td>\n",
       "    </tr>\n",
       "    <tr>\n",
       "      <th>2</th>\n",
       "      <td>AK</td>\n",
       "      <td>99501</td>\n",
       "      <td>7740.0</td>\n",
       "      <td>7740.0</td>\n",
       "      <td>581650.0</td>\n",
       "      <td>75.148579</td>\n",
       "      <td>HELPFUL HEARTS</td>\n",
       "      <td>ANCHORAGE</td>\n",
       "      <td>AK</td>\n",
       "      <td>99501-5791</td>\n",
       "      <td>3</td>\n",
       "      <td>1000</td>\n",
       "      <td>15</td>\n",
       "      <td>0.0</td>\n",
       "      <td>0.0</td>\n",
       "      <td>0.0</td>\n",
       "      <td>P11</td>\n",
       "    </tr>\n",
       "    <tr>\n",
       "      <th>3</th>\n",
       "      <td>AK</td>\n",
       "      <td>99501</td>\n",
       "      <td>7740.0</td>\n",
       "      <td>7740.0</td>\n",
       "      <td>581650.0</td>\n",
       "      <td>75.148579</td>\n",
       "      <td>ALASKA CORRECTIONAL OFFICERS ASSOCIATION INC</td>\n",
       "      <td>ANCHORAGE</td>\n",
       "      <td>AK</td>\n",
       "      <td>99501-2519</td>\n",
       "      <td>5</td>\n",
       "      <td>3000</td>\n",
       "      <td>0</td>\n",
       "      <td>1846516.0</td>\n",
       "      <td>915606.0</td>\n",
       "      <td>883302.0</td>\n",
       "      <td>J40</td>\n",
       "    </tr>\n",
       "    <tr>\n",
       "      <th>4</th>\n",
       "      <td>AK</td>\n",
       "      <td>99501</td>\n",
       "      <td>7740.0</td>\n",
       "      <td>7740.0</td>\n",
       "      <td>581650.0</td>\n",
       "      <td>75.148579</td>\n",
       "      <td>SOBERMIUT REVIVING OUR SPIRIT INC</td>\n",
       "      <td>ANCHORAGE</td>\n",
       "      <td>AK</td>\n",
       "      <td>99501-5231</td>\n",
       "      <td>3</td>\n",
       "      <td>2000</td>\n",
       "      <td>15</td>\n",
       "      <td>0.0</td>\n",
       "      <td>0.0</td>\n",
       "      <td>0.0</td>\n",
       "      <td>X20</td>\n",
       "    </tr>\n",
       "    <tr>\n",
       "      <th>...</th>\n",
       "      <td>...</td>\n",
       "      <td>...</td>\n",
       "      <td>...</td>\n",
       "      <td>...</td>\n",
       "      <td>...</td>\n",
       "      <td>...</td>\n",
       "      <td>...</td>\n",
       "      <td>...</td>\n",
       "      <td>...</td>\n",
       "      <td>...</td>\n",
       "      <td>...</td>\n",
       "      <td>...</td>\n",
       "      <td>...</td>\n",
       "      <td>...</td>\n",
       "      <td>...</td>\n",
       "      <td>...</td>\n",
       "      <td>...</td>\n",
       "    </tr>\n",
       "    <tr>\n",
       "      <th>1017126</th>\n",
       "      <td>WY</td>\n",
       "      <td>83128</td>\n",
       "      <td>950.0</td>\n",
       "      <td>950.0</td>\n",
       "      <td>89831.0</td>\n",
       "      <td>94.558947</td>\n",
       "      <td>ALPINE FOOD BANK</td>\n",
       "      <td>ALPINE</td>\n",
       "      <td>WY</td>\n",
       "      <td>83128-3921</td>\n",
       "      <td>3</td>\n",
       "      <td>1000</td>\n",
       "      <td>16</td>\n",
       "      <td>0.0</td>\n",
       "      <td>0.0</td>\n",
       "      <td>0.0</td>\n",
       "      <td>K31</td>\n",
       "    </tr>\n",
       "    <tr>\n",
       "      <th>1017127</th>\n",
       "      <td>WY</td>\n",
       "      <td>83128</td>\n",
       "      <td>950.0</td>\n",
       "      <td>950.0</td>\n",
       "      <td>89831.0</td>\n",
       "      <td>94.558947</td>\n",
       "      <td>AMERICAN LEGION</td>\n",
       "      <td>ALPINE</td>\n",
       "      <td>WY</td>\n",
       "      <td>83128-0662</td>\n",
       "      <td>19</td>\n",
       "      <td>1000</td>\n",
       "      <td>0</td>\n",
       "      <td>0.0</td>\n",
       "      <td>0.0</td>\n",
       "      <td>0.0</td>\n",
       "      <td>NaN</td>\n",
       "    </tr>\n",
       "    <tr>\n",
       "      <th>1017128</th>\n",
       "      <td>WY</td>\n",
       "      <td>83128</td>\n",
       "      <td>950.0</td>\n",
       "      <td>950.0</td>\n",
       "      <td>89831.0</td>\n",
       "      <td>94.558947</td>\n",
       "      <td>NORTHSTAR FOUNDATION</td>\n",
       "      <td>ALPINE</td>\n",
       "      <td>WY</td>\n",
       "      <td>83128-0274</td>\n",
       "      <td>3</td>\n",
       "      <td>1000</td>\n",
       "      <td>15</td>\n",
       "      <td>225000.0</td>\n",
       "      <td>225000.0</td>\n",
       "      <td>225000.0</td>\n",
       "      <td>P99</td>\n",
       "    </tr>\n",
       "    <tr>\n",
       "      <th>1017129</th>\n",
       "      <td>WY</td>\n",
       "      <td>83128</td>\n",
       "      <td>950.0</td>\n",
       "      <td>950.0</td>\n",
       "      <td>89831.0</td>\n",
       "      <td>94.558947</td>\n",
       "      <td>TOP OF THE ROCKIES</td>\n",
       "      <td>ALPINE</td>\n",
       "      <td>WY</td>\n",
       "      <td>83128-0172</td>\n",
       "      <td>3</td>\n",
       "      <td>1000</td>\n",
       "      <td>16</td>\n",
       "      <td>0.0</td>\n",
       "      <td>0.0</td>\n",
       "      <td>0.0</td>\n",
       "      <td>S80</td>\n",
       "    </tr>\n",
       "    <tr>\n",
       "      <th>1017130</th>\n",
       "      <td>WY</td>\n",
       "      <td>83414</td>\n",
       "      <td>220.0</td>\n",
       "      <td>220.0</td>\n",
       "      <td>41804.0</td>\n",
       "      <td>190.018182</td>\n",
       "      <td>BUSTLE CREEK GIVING FARM INC</td>\n",
       "      <td>ALTA</td>\n",
       "      <td>WY</td>\n",
       "      <td>83414-4547</td>\n",
       "      <td>3</td>\n",
       "      <td>1000</td>\n",
       "      <td>16</td>\n",
       "      <td>0.0</td>\n",
       "      <td>0.0</td>\n",
       "      <td>0.0</td>\n",
       "      <td>K30</td>\n",
       "    </tr>\n",
       "  </tbody>\n",
       "</table>\n",
       "<p>566903 rows × 17 columns</p>\n",
       "</div>"
      ],
      "text/plain": [
       "        STATE_x zipcode      N1  N02650    A02650  avg_income  \\\n",
       "0            AK   99501  7740.0  7740.0  581650.0   75.148579   \n",
       "1            AK   99501  7740.0  7740.0  581650.0   75.148579   \n",
       "2            AK   99501  7740.0  7740.0  581650.0   75.148579   \n",
       "3            AK   99501  7740.0  7740.0  581650.0   75.148579   \n",
       "4            AK   99501  7740.0  7740.0  581650.0   75.148579   \n",
       "...         ...     ...     ...     ...       ...         ...   \n",
       "1017126      WY   83128   950.0   950.0   89831.0   94.558947   \n",
       "1017127      WY   83128   950.0   950.0   89831.0   94.558947   \n",
       "1017128      WY   83128   950.0   950.0   89831.0   94.558947   \n",
       "1017129      WY   83128   950.0   950.0   89831.0   94.558947   \n",
       "1017130      WY   83414   220.0   220.0   41804.0  190.018182   \n",
       "\n",
       "                                                      NAME       CITY STATE_y  \\\n",
       "0        AFACT-ANCHORAGE FAITH & ACTION- CONGREGATIONS ...  ANCHORAGE      AK   \n",
       "1                                    COVENANT HOUSE ALASKA  ANCHORAGE      AK   \n",
       "2                                           HELPFUL HEARTS  ANCHORAGE      AK   \n",
       "3             ALASKA CORRECTIONAL OFFICERS ASSOCIATION INC  ANCHORAGE      AK   \n",
       "4                        SOBERMIUT REVIVING OUR SPIRIT INC  ANCHORAGE      AK   \n",
       "...                                                    ...        ...     ...   \n",
       "1017126                                   ALPINE FOOD BANK     ALPINE      WY   \n",
       "1017127                                    AMERICAN LEGION     ALPINE      WY   \n",
       "1017128                               NORTHSTAR FOUNDATION     ALPINE      WY   \n",
       "1017129                                 TOP OF THE ROCKIES     ALPINE      WY   \n",
       "1017130                       BUSTLE CREEK GIVING FARM INC       ALTA      WY   \n",
       "\n",
       "                ZIP  SUBSECTION  CLASSIFICATION  FOUNDATION   ASSET_AMT  \\\n",
       "0        99501-2409           3            7200          15     45396.0   \n",
       "1        99501-3625           3            1000          15  21108722.0   \n",
       "2        99501-5791           3            1000          15         0.0   \n",
       "3        99501-2519           5            3000           0   1846516.0   \n",
       "4        99501-5231           3            2000          15         0.0   \n",
       "...             ...         ...             ...         ...         ...   \n",
       "1017126  83128-3921           3            1000          16         0.0   \n",
       "1017127  83128-0662          19            1000           0         0.0   \n",
       "1017128  83128-0274           3            1000          15    225000.0   \n",
       "1017129  83128-0172           3            1000          16         0.0   \n",
       "1017130  83414-4547           3            1000          16         0.0   \n",
       "\n",
       "         INCOME_AMT  REVENUE_AMT NTEE_CD  \n",
       "0          154543.0     154543.0    X012  \n",
       "1         8763496.0    6823299.0    P300  \n",
       "2               0.0          0.0     P11  \n",
       "3          915606.0     883302.0     J40  \n",
       "4               0.0          0.0     X20  \n",
       "...             ...          ...     ...  \n",
       "1017126         0.0          0.0     K31  \n",
       "1017127         0.0          0.0     NaN  \n",
       "1017128    225000.0     225000.0     P99  \n",
       "1017129         0.0          0.0     S80  \n",
       "1017130         0.0          0.0     K30  \n",
       "\n",
       "[566903 rows x 17 columns]"
      ]
     },
     "execution_count": 371,
     "metadata": {},
     "output_type": "execute_result"
    }
   ],
   "source": [
    "income_np_merge[income_np_merge['avg_income']>60]"
   ]
  },
  {
   "cell_type": "code",
   "execution_count": null,
   "metadata": {},
   "outputs": [],
   "source": []
  }
 ],
 "metadata": {
  "kernelspec": {
   "display_name": "Python 3",
   "language": "python",
   "name": "python3"
  },
  "language_info": {
   "codemirror_mode": {
    "name": "ipython",
    "version": 3
   },
   "file_extension": ".py",
   "mimetype": "text/x-python",
   "name": "python",
   "nbconvert_exporter": "python",
   "pygments_lexer": "ipython3",
   "version": "3.7.7"
  }
 },
 "nbformat": 4,
 "nbformat_minor": 4
}
