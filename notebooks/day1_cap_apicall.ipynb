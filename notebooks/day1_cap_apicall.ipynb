{
 "cells": [
  {
   "cell_type": "code",
   "execution_count": 220,
   "metadata": {},
   "outputs": [],
   "source": [
    "from pymongo import MongoClient\n",
    "import pprint\n",
    "import urllib.request\n",
    "\n",
    "import pandas as pd\n",
    "import matplotlib.pyplot as plt\n",
    "plt.style.use('fivethirtyeight')\n",
    "\n",
    "# Requests sends and recieves HTTP requests.\n",
    "import requests\n",
    "\n",
    "# Beautiful Soup parses HTML documents in python.\n",
    "from bs4 import BeautifulSoup\n",
    "\n",
    "import json\n",
    "import time\n",
    "import copy "
   ]
  },
  {
   "cell_type": "code",
   "execution_count": 217,
   "metadata": {},
   "outputs": [],
   "source": [
    "#connect to api_url for census\n",
    "\n",
    "api_key = 'ce30285f0f2fedc096b5bf054c7d573ea6558309'\n",
    "base_url = 'https://api.census.gov/data/2018/acs/acs1/spp?'\n",
    "\n",
    "variables = []\n",
    "geography = []\n",
    "\n",
    "\n",
    "api_url = '''https://api.census.gov/data/2018/acs/acs1/spp?get=NAME,GEO_ID,S0201_001E,S0201_006E,S0201_213E,S0201_194E&for=county:*&in=state:*&key=ce30285f0f2fedc096b5bf054c7d573ea6558309'''"
   ]
  },
  {
   "cell_type": "code",
   "execution_count": 152,
   "metadata": {},
   "outputs": [],
   "source": [
    "r = requests.get(api_url)"
   ]
  },
  {
   "cell_type": "code",
   "execution_count": 153,
   "metadata": {},
   "outputs": [
    {
     "data": {
      "text/plain": [
       "200"
      ]
     },
     "execution_count": 153,
     "metadata": {},
     "output_type": "execute_result"
    }
   ],
   "source": [
    "r.status_code"
   ]
  },
  {
   "cell_type": "code",
   "execution_count": 154,
   "metadata": {},
   "outputs": [],
   "source": [
    "data = r.json()"
   ]
  },
  {
   "cell_type": "code",
   "execution_count": 156,
   "metadata": {},
   "outputs": [
    {
     "data": {
      "text/html": [
       "<div>\n",
       "<style scoped>\n",
       "    .dataframe tbody tr th:only-of-type {\n",
       "        vertical-align: middle;\n",
       "    }\n",
       "\n",
       "    .dataframe tbody tr th {\n",
       "        vertical-align: top;\n",
       "    }\n",
       "\n",
       "    .dataframe thead th {\n",
       "        text-align: right;\n",
       "    }\n",
       "</style>\n",
       "<table border=\"1\" class=\"dataframe\">\n",
       "  <thead>\n",
       "    <tr style=\"text-align: right;\">\n",
       "      <th></th>\n",
       "      <th>0</th>\n",
       "      <th>1</th>\n",
       "      <th>2</th>\n",
       "      <th>3</th>\n",
       "      <th>4</th>\n",
       "      <th>5</th>\n",
       "      <th>6</th>\n",
       "    </tr>\n",
       "  </thead>\n",
       "  <tbody>\n",
       "    <tr>\n",
       "      <th>0</th>\n",
       "      <td>NAME</td>\n",
       "      <td>GEO_ID</td>\n",
       "      <td>S0201_001E</td>\n",
       "      <td>S0201_213E</td>\n",
       "      <td>S0201_194E</td>\n",
       "      <td>state</td>\n",
       "      <td>county</td>\n",
       "    </tr>\n",
       "    <tr>\n",
       "      <th>1</th>\n",
       "      <td>Washington County, Oregon</td>\n",
       "      <td>0500000US41067</td>\n",
       "      <td>597695</td>\n",
       "      <td>225955</td>\n",
       "      <td>317538</td>\n",
       "      <td>41</td>\n",
       "      <td>067</td>\n",
       "    </tr>\n",
       "    <tr>\n",
       "      <th>2</th>\n",
       "      <td>Multnomah County, Oregon</td>\n",
       "      <td>0500000US41051</td>\n",
       "      <td>811880</td>\n",
       "      <td>330223</td>\n",
       "      <td>453165</td>\n",
       "      <td>41</td>\n",
       "      <td>051</td>\n",
       "    </tr>\n",
       "    <tr>\n",
       "      <th>3</th>\n",
       "      <td>Hennepin County, Minnesota</td>\n",
       "      <td>0500000US27053</td>\n",
       "      <td>1259428</td>\n",
       "      <td>508964</td>\n",
       "      <td>707713</td>\n",
       "      <td>27</td>\n",
       "      <td>053</td>\n",
       "    </tr>\n",
       "    <tr>\n",
       "      <th>4</th>\n",
       "      <td>Ramsey County, Minnesota</td>\n",
       "      <td>0500000US27123</td>\n",
       "      <td>550210</td>\n",
       "      <td>209287</td>\n",
       "      <td>284189</td>\n",
       "      <td>27</td>\n",
       "      <td>123</td>\n",
       "    </tr>\n",
       "    <tr>\n",
       "      <th>...</th>\n",
       "      <td>...</td>\n",
       "      <td>...</td>\n",
       "      <td>...</td>\n",
       "      <td>...</td>\n",
       "      <td>...</td>\n",
       "      <td>...</td>\n",
       "      <td>...</td>\n",
       "    </tr>\n",
       "    <tr>\n",
       "      <th>137</th>\n",
       "      <td>Worcester County, Massachusetts</td>\n",
       "      <td>0500000US25027</td>\n",
       "      <td>830839</td>\n",
       "      <td>308831</td>\n",
       "      <td>426478</td>\n",
       "      <td>25</td>\n",
       "      <td>027</td>\n",
       "    </tr>\n",
       "    <tr>\n",
       "      <th>138</th>\n",
       "      <td>Oakland County, Michigan</td>\n",
       "      <td>0500000US26125</td>\n",
       "      <td>1259201</td>\n",
       "      <td>503645</td>\n",
       "      <td>650047</td>\n",
       "      <td>26</td>\n",
       "      <td>125</td>\n",
       "    </tr>\n",
       "    <tr>\n",
       "      <th>139</th>\n",
       "      <td>Wayne County, Michigan</td>\n",
       "      <td>0500000US26163</td>\n",
       "      <td>1753893</td>\n",
       "      <td>687546</td>\n",
       "      <td>753512</td>\n",
       "      <td>26</td>\n",
       "      <td>163</td>\n",
       "    </tr>\n",
       "    <tr>\n",
       "      <th>140</th>\n",
       "      <td>Kent County, Michigan</td>\n",
       "      <td>0500000US26081</td>\n",
       "      <td>653786</td>\n",
       "      <td>244046</td>\n",
       "      <td>340436</td>\n",
       "      <td>26</td>\n",
       "      <td>081</td>\n",
       "    </tr>\n",
       "    <tr>\n",
       "      <th>141</th>\n",
       "      <td>Macomb County, Michigan</td>\n",
       "      <td>0500000US26099</td>\n",
       "      <td>874759</td>\n",
       "      <td>347508</td>\n",
       "      <td>438680</td>\n",
       "      <td>26</td>\n",
       "      <td>099</td>\n",
       "    </tr>\n",
       "  </tbody>\n",
       "</table>\n",
       "<p>142 rows × 7 columns</p>\n",
       "</div>"
      ],
      "text/plain": [
       "                                   0               1           2           3  \\\n",
       "0                               NAME          GEO_ID  S0201_001E  S0201_213E   \n",
       "1          Washington County, Oregon  0500000US41067      597695      225955   \n",
       "2           Multnomah County, Oregon  0500000US41051      811880      330223   \n",
       "3         Hennepin County, Minnesota  0500000US27053     1259428      508964   \n",
       "4           Ramsey County, Minnesota  0500000US27123      550210      209287   \n",
       "..                               ...             ...         ...         ...   \n",
       "137  Worcester County, Massachusetts  0500000US25027      830839      308831   \n",
       "138         Oakland County, Michigan  0500000US26125     1259201      503645   \n",
       "139           Wayne County, Michigan  0500000US26163     1753893      687546   \n",
       "140            Kent County, Michigan  0500000US26081      653786      244046   \n",
       "141          Macomb County, Michigan  0500000US26099      874759      347508   \n",
       "\n",
       "              4      5       6  \n",
       "0    S0201_194E  state  county  \n",
       "1        317538     41     067  \n",
       "2        453165     41     051  \n",
       "3        707713     27     053  \n",
       "4        284189     27     123  \n",
       "..          ...    ...     ...  \n",
       "137      426478     25     027  \n",
       "138      650047     26     125  \n",
       "139      753512     26     163  \n",
       "140      340436     26     081  \n",
       "141      438680     26     099  \n",
       "\n",
       "[142 rows x 7 columns]"
      ]
     },
     "execution_count": 156,
     "metadata": {},
     "output_type": "execute_result"
    }
   ],
   "source": [
    "data2 = pd.DataFrame(data)\n",
    "data2"
   ]
  },
  {
   "cell_type": "code",
   "execution_count": 158,
   "metadata": {},
   "outputs": [],
   "source": [
    "def census_name_pull(name_dict, word_search):\n",
    "    name_list = []\n",
    "\n",
    "\n",
    "    for k, v in name_dict.items():\n",
    "        if stat in v:\n",
    "            name_list.append(k)\n",
    "    return name_list"
   ]
  },
  {
   "cell_type": "code",
   "execution_count": 215,
   "metadata": {},
   "outputs": [],
   "source": []
  },
  {
   "cell_type": "code",
   "execution_count": 216,
   "metadata": {},
   "outputs": [],
   "source": [
    "#pull data for sex & age by county in state\n",
    "sex_age_pull = census_name_pull(clean_col_name,'INDUSTRY')"
   ]
  },
  {
   "cell_type": "code",
   "execution_count": 218,
   "metadata": {},
   "outputs": [],
   "source": [
    "#pull data for employment status by county in state"
   ]
  },
  {
   "cell_type": "code",
   "execution_count": 219,
   "metadata": {},
   "outputs": [],
   "source": [
    "#pull data for industry by county in state"
   ]
  },
  {
   "cell_type": "code",
   "execution_count": null,
   "metadata": {},
   "outputs": [],
   "source": [
    "#pull data for income by county in state"
   ]
  },
  {
   "cell_type": "code",
   "execution_count": 230,
   "metadata": {},
   "outputs": [],
   "source": []
  },
  {
   "cell_type": "code",
   "execution_count": 275,
   "metadata": {},
   "outputs": [],
   "source": [
    "#pull census variables \n",
    "#storing census variable names(unreadable) with readable column names \n",
    "var_req = requests.get('https://api.census.gov/data/2018/acs/acs1/spp/variables.json').json()\n",
    "\n",
    "\n",
    "col_name = {}\n",
    "variables = var_req['variables']\n",
    "\n",
    "for k, v in variables.items():\n",
    "    col_name[k] = v['label']\n",
    "    \n",
    "#still need to clean up the column names and remove !! and other unnecssary data. "
   ]
  },
  {
   "cell_type": "code",
   "execution_count": null,
   "metadata": {},
   "outputs": [],
   "source": []
  },
  {
   "cell_type": "code",
   "execution_count": 277,
   "metadata": {},
   "outputs": [],
   "source": [
    "#remove all the columns that have PR in them\n",
    "clean_col_name = col_name.copy()\n",
    "stat = 'PR'\n",
    "\n",
    "\n",
    "for k, v in col_name.items():\n",
    "    if stat in k:\n",
    "        del clean_col_name[k]"
   ]
  },
  {
   "cell_type": "code",
   "execution_count": 283,
   "metadata": {},
   "outputs": [
    {
     "data": {
      "text/plain": [
       "list"
      ]
     },
     "execution_count": 283,
     "metadata": {},
     "output_type": "execute_result"
    }
   ],
   "source": [
    "sex_age_pull = []\n",
    "stat = 'SEX AND AGE'\n",
    "\n",
    "\n",
    "for k, v in clean_col_name.items():\n",
    "    if stat in v:\n",
    "        sex_age_pull.append(k)\n",
    "sex_age_pull"
   ]
  },
  {
   "cell_type": "code",
   "execution_count": 294,
   "metadata": {},
   "outputs": [],
   "source": [
    "\n",
    "emp_stat_pull = []\n",
    "stat = 'EMPLOYMENT STATUS'\n",
    "\n",
    "\n",
    "for k, v in clean_col_name.items():\n",
    "    if stat in v:\n",
    "        emp_stat_pull.append(k)\n"
   ]
  },
  {
   "cell_type": "code",
   "execution_count": 296,
   "metadata": {},
   "outputs": [],
   "source": [
    "industry_pull = []\n",
    "stat = 'INDUSTRY'\n",
    "\n",
    "\n",
    "for k, v in clean_col_name.items():\n",
    "    if stat in v:\n",
    "        industry_pull.append(k)\n"
   ]
  },
  {
   "cell_type": "code",
   "execution_count": 295,
   "metadata": {},
   "outputs": [],
   "source": [
    "income_pull = []\n",
    "stat = 'INCOME'\n",
    "\n",
    "\n",
    "for k, v in clean_col_name.items():\n",
    "    if stat in v:\n",
    "        income_pull.append(k)\n"
   ]
  },
  {
   "cell_type": "code",
   "execution_count": 289,
   "metadata": {},
   "outputs": [],
   "source": [
    "def census_name_pull(name_dict, word_search):\n",
    "    name_list = []\n",
    "\n",
    "\n",
    "    for k, v in name_dict.items():\n",
    "        if stat in v:\n",
    "            name_list.append(k)\n",
    "    return name_list\n",
    "\n"
   ]
  },
  {
   "cell_type": "code",
   "execution_count": 293,
   "metadata": {},
   "outputs": [],
   "source": [
    "industry_pull = census_name_pull(clean_col_name,'INDUSTRY')\n"
   ]
  },
  {
   "cell_type": "code",
   "execution_count": 248,
   "metadata": {},
   "outputs": [],
   "source": [
    "#original col name script was refactored above...\n",
    "\n",
    "def skip():\n",
    "    col_name = {}\n",
    "    var_json = json.load(open('../variables.json'))\n",
    "    var_json2 = var_json['variables']\n",
    "\n",
    "    for k, v in var_json2.items():\n",
    "        col_name[k] = v['label']\n",
    "        \n",
    "    pass\n",
    "#col_name\n"
   ]
  },
  {
   "cell_type": "code",
   "execution_count": null,
   "metadata": {},
   "outputs": [],
   "source": []
  }
 ],
 "metadata": {
  "kernelspec": {
   "display_name": "Python 3",
   "language": "python",
   "name": "python3"
  },
  "language_info": {
   "codemirror_mode": {
    "name": "ipython",
    "version": 3
   },
   "file_extension": ".py",
   "mimetype": "text/x-python",
   "name": "python",
   "nbconvert_exporter": "python",
   "pygments_lexer": "ipython3",
   "version": "3.7.7"
  }
 },
 "nbformat": 4,
 "nbformat_minor": 4
}
