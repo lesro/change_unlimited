{
 "cells": [
  {
   "cell_type": "code",
   "execution_count": 220,
   "metadata": {},
   "outputs": [],
   "source": [
    "from pymongo import MongoClient\n",
    "import pprint\n",
    "import urllib.request\n",
    "\n",
    "import pandas as pd\n",
    "import matplotlib.pyplot as plt\n",
    "plt.style.use('fivethirtyeight')\n",
    "\n",
    "# Requests sends and recieves HTTP requests.\n",
    "import requests\n",
    "\n",
    "# Beautiful Soup parses HTML documents in python.\n",
    "from bs4 import BeautifulSoup\n",
    "\n",
    "import json\n",
    "import time\n",
    "import copy "
   ]
  },
  {
   "cell_type": "code",
   "execution_count": 346,
   "metadata": {},
   "outputs": [],
   "source": [
    "#pull census variables \n",
    "#storing census variable names(unreadable) with readable column names \n",
    "var_req = requests.get('https://api.census.gov/data/2018/acs/acs1/spp/variables.json').json()\n",
    "\n",
    "\n",
    "col_name = {}\n",
    "variables = var_req['variables']\n",
    "\n",
    "for k, v in variables.items():\n",
    "    col_name[k] = v['label']\n",
    "    \n",
    "#still need to clean up the column names and remove !! and other unnecssary data. "
   ]
  },
  {
   "cell_type": "code",
   "execution_count": null,
   "metadata": {},
   "outputs": [],
   "source": []
  },
  {
   "cell_type": "code",
   "execution_count": 347,
   "metadata": {},
   "outputs": [],
   "source": [
    "#remove all the columns that have PR in them\n",
    "clean_col_name = col_name.copy()\n",
    "stat = 'PR'\n",
    "\n",
    "\n",
    "for k, v in col_name.items():\n",
    "    if stat in k:\n",
    "        del clean_col_name[k]"
   ]
  },
  {
   "cell_type": "code",
   "execution_count": null,
   "metadata": {},
   "outputs": [],
   "source": []
  },
  {
   "cell_type": "code",
   "execution_count": 381,
   "metadata": {},
   "outputs": [],
   "source": [
    "#flexible pull request for api call, generates names for api url\n",
    "def census_name_pull(name_dict, word_search):\n",
    "    name_list = ['NAME','GEO_ID']\n",
    "\n",
    "\n",
    "    for k, v in name_dict.items():\n",
    "        if word_search in v:\n",
    "            name_list.append(k)\n",
    "    return sorted(name_list)"
   ]
  },
  {
   "cell_type": "code",
   "execution_count": null,
   "metadata": {},
   "outputs": [],
   "source": []
  },
  {
   "cell_type": "code",
   "execution_count": 382,
   "metadata": {},
   "outputs": [],
   "source": [
    "#pull columns for sex & age by county in state\n",
    "sex_age_pull = census_name_pull(clean_col_name,'SEX AND AGE')\n"
   ]
  },
  {
   "cell_type": "code",
   "execution_count": 383,
   "metadata": {},
   "outputs": [],
   "source": [
    "#pull columns for employment status by county in state\n",
    "emp_stat_pull = census_name_pull(clean_col_name,'EMPLOYMENT STATUS')\n"
   ]
  },
  {
   "cell_type": "code",
   "execution_count": 384,
   "metadata": {},
   "outputs": [],
   "source": [
    "#pull columns for industry by county in state\n",
    "industry_pull = census_name_pull(clean_col_name,'INDUSTRY')\n"
   ]
  },
  {
   "cell_type": "code",
   "execution_count": 385,
   "metadata": {},
   "outputs": [],
   "source": [
    "#pull columns for income by county in state\n",
    "income_pull = census_name_pull(clean_col_name,'INCOME')\n"
   ]
  },
  {
   "cell_type": "code",
   "execution_count": null,
   "metadata": {},
   "outputs": [],
   "source": []
  },
  {
   "cell_type": "code",
   "execution_count": 388,
   "metadata": {},
   "outputs": [],
   "source": [
    "#connect to api_url for census per \n",
    "get_vars = [sex_age_pull, emp_stat_pull, industry_pull, income_pull]\n",
    "\n",
    "def api_pull_request(get_vars):\n",
    "\n",
    "    api_key = 'ce30285f0f2fedc096b5bf054c7d573ea6558309'\n",
    "    base_url = 'https://api.census.gov/data/2018/acs/acs1/spp?'\n",
    "\n",
    "    predicates = {}\n",
    "    predicates['get'] = ','.join(get_vars)\n",
    "    predicates['for'] = 'county:*'\n",
    "    predicates['in'] = 'state:*'\n",
    "    predicates['key'] = api_key\n",
    "    \n",
    "    r = requests.get(base_url, params=predicates)\n",
    "    \n",
    "    return r.json()\n",
    "\n",
    "# api_url = '''https://api.census.gov/data/2018/acs/acs1/spp?get=NAME,GEO_ID,S0201_001E,S0201_006E,S0201_213E,S0201_194E&for=county:*&in=state:*&key=ce30285f0f2fedc096b5bf054c7d573ea6558309'''"
   ]
  },
  {
   "cell_type": "code",
   "execution_count": 394,
   "metadata": {},
   "outputs": [],
   "source": [
    "#created sex and age pull request and dataframe\n",
    "sex_age_data = api_pull_request(sex_age_pull)\n",
    "sex_age_df = pd.DataFrame(sex_age_data)\n"
   ]
  },
  {
   "cell_type": "code",
   "execution_count": 395,
   "metadata": {},
   "outputs": [],
   "source": [
    "#created employee status pull request and dataframe\n",
    "emp_stat_data = api_pull_request(emp_stat_pull)\n",
    "emp_stat_df = pd.DataFrame(emp_stat_data)\n"
   ]
  },
  {
   "cell_type": "code",
   "execution_count": 396,
   "metadata": {},
   "outputs": [],
   "source": [
    "#created income pull request and dataframe\n",
    "income_data = api_pull_request(income_pull)\n",
    "income_df = pd.DataFrame(income_data)"
   ]
  },
  {
   "cell_type": "code",
   "execution_count": 397,
   "metadata": {},
   "outputs": [],
   "source": [
    "#created industry pull request and dataframe\n",
    "industry_data = api_pull_request(industry_pull)\n",
    "industry_df = pd.DataFrame(industry_data)"
   ]
  },
  {
   "cell_type": "code",
   "execution_count": 230,
   "metadata": {},
   "outputs": [],
   "source": []
  }
 ],
 "metadata": {
  "kernelspec": {
   "display_name": "Python 3",
   "language": "python",
   "name": "python3"
  },
  "language_info": {
   "codemirror_mode": {
    "name": "ipython",
    "version": 3
   },
   "file_extension": ".py",
   "mimetype": "text/x-python",
   "name": "python",
   "nbconvert_exporter": "python",
   "pygments_lexer": "ipython3",
   "version": "3.7.7"
  }
 },
 "nbformat": 4,
 "nbformat_minor": 4
}
